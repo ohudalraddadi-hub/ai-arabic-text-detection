{
  "nbformat": 4,
  "nbformat_minor": 0,
  "metadata": {
    "colab": {
      "provenance": [],
      "include_colab_link": true
    },
    "kernelspec": {
      "name": "python3",
      "display_name": "Python 3"
    },
    "language_info": {
      "name": "python"
    }
  },
  "cells": [
    {
      "cell_type": "markdown",
      "metadata": {
        "id": "view-in-github",
        "colab_type": "text"
      },
      "source": [
        "<a href=\"https://colab.research.google.com/github/ohudalraddadi-hub/ai-arabic-text-detection/blob/main/Task_2_1_preprocessing_v2.ipynb\" target=\"_parent\"><img src=\"https://colab.research.google.com/assets/colab-badge.svg\" alt=\"Open In Colab\"/></a>"
      ]
    },
    {
      "cell_type": "code",
      "source": [
        "import pandas as pd\n",
        "\n",
        "file_path = \"/content/drive/MyDrive/Colab Notebooks/arabic_generated_abstracts_long.csv\"\n",
        "df = pd.read_csv(file_path)\n",
        "display(df.head())"
      ],
      "metadata": {
        "colab": {
          "base_uri": "https://localhost:8080/",
          "height": 206
        },
        "id": "eu48DdLuoBkR",
        "outputId": "4ed887f3-fb15-45f7-8fbb-c51175eeba98"
      },
      "execution_count": null,
      "outputs": [
        {
          "output_type": "display_data",
          "data": {
            "text/plain": [
              "                                                text  label source_model  \\\n",
              "0  كثيرا ما ارتبطت المصادر التاريخية في الأندلس خ...      0        human   \n",
              "1  يعد العامل الثقافي احد ابرز الاسباب التي يعزى ...      0        human   \n",
              "2  شكلت تلك الجهود والمساعي الرائدة التي قام بها ...      0        human   \n",
              "3  يقوم المقال على اشكالية الضرائب الغير شرعية في...      0        human   \n",
              "4  تتفق المصادر التاريخية المتوفرة حول موضوع تطور...      0        human   \n",
              "\n",
              "     split_name  \n",
              "0  by_polishing  \n",
              "1  by_polishing  \n",
              "2  by_polishing  \n",
              "3  by_polishing  \n",
              "4  by_polishing  "
            ],
            "text/html": [
              "\n",
              "  <div id=\"df-84296318-bb18-4ed0-a532-8d26e76f28c8\" class=\"colab-df-container\">\n",
              "    <div>\n",
              "<style scoped>\n",
              "    .dataframe tbody tr th:only-of-type {\n",
              "        vertical-align: middle;\n",
              "    }\n",
              "\n",
              "    .dataframe tbody tr th {\n",
              "        vertical-align: top;\n",
              "    }\n",
              "\n",
              "    .dataframe thead th {\n",
              "        text-align: right;\n",
              "    }\n",
              "</style>\n",
              "<table border=\"1\" class=\"dataframe\">\n",
              "  <thead>\n",
              "    <tr style=\"text-align: right;\">\n",
              "      <th></th>\n",
              "      <th>text</th>\n",
              "      <th>label</th>\n",
              "      <th>source_model</th>\n",
              "      <th>split_name</th>\n",
              "    </tr>\n",
              "  </thead>\n",
              "  <tbody>\n",
              "    <tr>\n",
              "      <th>0</th>\n",
              "      <td>كثيرا ما ارتبطت المصادر التاريخية في الأندلس خ...</td>\n",
              "      <td>0</td>\n",
              "      <td>human</td>\n",
              "      <td>by_polishing</td>\n",
              "    </tr>\n",
              "    <tr>\n",
              "      <th>1</th>\n",
              "      <td>يعد العامل الثقافي احد ابرز الاسباب التي يعزى ...</td>\n",
              "      <td>0</td>\n",
              "      <td>human</td>\n",
              "      <td>by_polishing</td>\n",
              "    </tr>\n",
              "    <tr>\n",
              "      <th>2</th>\n",
              "      <td>شكلت تلك الجهود والمساعي الرائدة التي قام بها ...</td>\n",
              "      <td>0</td>\n",
              "      <td>human</td>\n",
              "      <td>by_polishing</td>\n",
              "    </tr>\n",
              "    <tr>\n",
              "      <th>3</th>\n",
              "      <td>يقوم المقال على اشكالية الضرائب الغير شرعية في...</td>\n",
              "      <td>0</td>\n",
              "      <td>human</td>\n",
              "      <td>by_polishing</td>\n",
              "    </tr>\n",
              "    <tr>\n",
              "      <th>4</th>\n",
              "      <td>تتفق المصادر التاريخية المتوفرة حول موضوع تطور...</td>\n",
              "      <td>0</td>\n",
              "      <td>human</td>\n",
              "      <td>by_polishing</td>\n",
              "    </tr>\n",
              "  </tbody>\n",
              "</table>\n",
              "</div>\n",
              "    <div class=\"colab-df-buttons\">\n",
              "      \n",
              "  <div class=\"colab-df-container\">\n",
              "    <button class=\"colab-df-convert\" onclick=\"convertToInteractive('df-84296318-bb18-4ed0-a532-8d26e76f28c8')\"\n",
              "            title=\"Convert this dataframe to an interactive table.\"\n",
              "            style=\"display:none;\">\n",
              "      \n",
              "  <svg xmlns=\"http://www.w3.org/2000/svg\" height=\"24px\" viewBox=\"0 -960 960 960\">\n",
              "    <path d=\"M120-120v-720h720v720H120Zm60-500h600v-160H180v160Zm220 220h160v-160H400v160Zm0 220h160v-160H400v160ZM180-400h160v-160H180v160Zm440 0h160v-160H620v160ZM180-180h160v-160H180v160Zm440 0h160v-160H620v160Z\"/>\n",
              "  </svg>\n",
              "    </button>\n",
              "    \n",
              "  <style>\n",
              "    .colab-df-container {\n",
              "      display:flex;\n",
              "      gap: 12px;\n",
              "    }\n",
              "\n",
              "    .colab-df-convert {\n",
              "      background-color: #E8F0FE;\n",
              "      border: none;\n",
              "      border-radius: 50%;\n",
              "      cursor: pointer;\n",
              "      display: none;\n",
              "      fill: #1967D2;\n",
              "      height: 32px;\n",
              "      padding: 0 0 0 0;\n",
              "      width: 32px;\n",
              "    }\n",
              "\n",
              "    .colab-df-convert:hover {\n",
              "      background-color: #E2EBFA;\n",
              "      box-shadow: 0px 1px 2px rgba(60, 64, 67, 0.3), 0px 1px 3px 1px rgba(60, 64, 67, 0.15);\n",
              "      fill: #174EA6;\n",
              "    }\n",
              "\n",
              "    .colab-df-buttons div {\n",
              "      margin-bottom: 4px;\n",
              "    }\n",
              "\n",
              "    [theme=dark] .colab-df-convert {\n",
              "      background-color: #3B4455;\n",
              "      fill: #D2E3FC;\n",
              "    }\n",
              "\n",
              "    [theme=dark] .colab-df-convert:hover {\n",
              "      background-color: #434B5C;\n",
              "      box-shadow: 0px 1px 3px 1px rgba(0, 0, 0, 0.15);\n",
              "      filter: drop-shadow(0px 1px 2px rgba(0, 0, 0, 0.3));\n",
              "      fill: #FFFFFF;\n",
              "    }\n",
              "  </style>\n",
              "\n",
              "    <script>\n",
              "      const buttonEl =\n",
              "        document.querySelector('#df-84296318-bb18-4ed0-a532-8d26e76f28c8 button.colab-df-convert');\n",
              "      buttonEl.style.display =\n",
              "        google.colab.kernel.accessAllowed ? 'block' : 'none';\n",
              "\n",
              "      async function convertToInteractive(key) {\n",
              "        const element = document.querySelector('#df-84296318-bb18-4ed0-a532-8d26e76f28c8');\n",
              "        const dataTable =\n",
              "          await google.colab.kernel.invokeFunction('convertToInteractive',\n",
              "                                                    [key], {});\n",
              "        if (!dataTable) return;\n",
              "\n",
              "        const docLinkHtml = 'Like what you see? Visit the ' +\n",
              "          '<a target=\"_blank\" href=https://colab.research.google.com/notebooks/data_table.ipynb>data table notebook</a>'\n",
              "          + ' to learn more about interactive tables.';\n",
              "        element.innerHTML = '';\n",
              "        dataTable['output_type'] = 'display_data';\n",
              "        await google.colab.output.renderOutput(dataTable, element);\n",
              "        const docLink = document.createElement('div');\n",
              "        docLink.innerHTML = docLinkHtml;\n",
              "        element.appendChild(docLink);\n",
              "      }\n",
              "    </script>\n",
              "  </div>\n",
              "  \n",
              "    </div>\n",
              "  </div>\n",
              "  "
            ]
          },
          "metadata": {}
        }
      ]
    },
    {
      "cell_type": "code",
      "source": [
        "pip install pyarabic camel-tools nltk"
      ],
      "metadata": {
        "colab": {
          "base_uri": "https://localhost:8080/",
          "height": 1000
        },
        "id": "drDbGp8CpF-j",
        "outputId": "d360ee57-6f40-4f25-83d5-3f7503969a73",
        "collapsed": true
      },
      "execution_count": null,
      "outputs": [
        {
          "output_type": "stream",
          "name": "stdout",
          "text": [
            "Collecting pyarabic\n",
            "  Downloading PyArabic-0.6.15-py3-none-any.whl.metadata (10 kB)\n",
            "Collecting camel-tools\n",
            "  Downloading camel_tools-1.5.7-py3-none-any.whl.metadata (10 kB)\n",
            "Requirement already satisfied: nltk in /usr/local/lib/python3.12/dist-packages (3.9.1)\n",
            "Requirement already satisfied: six>=1.14.0 in /usr/local/lib/python3.12/dist-packages (from pyarabic) (1.17.0)\n",
            "Requirement already satisfied: future in /usr/local/lib/python3.12/dist-packages (from camel-tools) (1.0.0)\n",
            "Collecting docopt (from camel-tools)\n",
            "  Downloading docopt-0.6.2.tar.gz (25 kB)\n",
            "  Preparing metadata (setup.py) ... \u001b[?25l\u001b[?25hdone\n",
            "Requirement already satisfied: cachetools<=6.0.0 in /usr/local/lib/python3.12/dist-packages (from camel-tools) (5.5.2)\n",
            "Collecting numpy<2 (from camel-tools)\n",
            "  Downloading numpy-1.26.4-cp312-cp312-manylinux_2_17_x86_64.manylinux2014_x86_64.whl.metadata (61 kB)\n",
            "\u001b[2K     \u001b[90m━━━━━━━━━━━━━━━━━━━━━━━━━━━━━━━━━━━━━━━━\u001b[0m \u001b[32m61.0/61.0 kB\u001b[0m \u001b[31m2.3 MB/s\u001b[0m eta \u001b[36m0:00:00\u001b[0m\n",
            "\u001b[?25hRequirement already satisfied: scipy in /usr/local/lib/python3.12/dist-packages (from camel-tools) (1.16.2)\n",
            "Requirement already satisfied: pandas in /usr/local/lib/python3.12/dist-packages (from camel-tools) (2.2.2)\n",
            "Requirement already satisfied: scikit-learn in /usr/local/lib/python3.12/dist-packages (from camel-tools) (1.6.1)\n",
            "Requirement already satisfied: dill in /usr/local/lib/python3.12/dist-packages (from camel-tools) (0.3.8)\n",
            "Requirement already satisfied: torch>=2.0 in /usr/local/lib/python3.12/dist-packages (from camel-tools) (2.8.0+cu126)\n",
            "Collecting transformers<4.44.0,>=4.0 (from camel-tools)\n",
            "  Downloading transformers-4.43.4-py3-none-any.whl.metadata (43 kB)\n",
            "\u001b[2K     \u001b[90m━━━━━━━━━━━━━━━━━━━━━━━━━━━━━━━━━━━━━━━━\u001b[0m \u001b[32m43.7/43.7 kB\u001b[0m \u001b[31m2.6 MB/s\u001b[0m eta \u001b[36m0:00:00\u001b[0m\n",
            "\u001b[?25hRequirement already satisfied: editdistance in /usr/local/lib/python3.12/dist-packages (from camel-tools) (0.8.1)\n",
            "Requirement already satisfied: requests in /usr/local/lib/python3.12/dist-packages (from camel-tools) (2.32.4)\n",
            "Collecting emoji (from camel-tools)\n",
            "  Downloading emoji-2.15.0-py3-none-any.whl.metadata (5.7 kB)\n",
            "Collecting pyrsistent (from camel-tools)\n",
            "  Downloading pyrsistent-0.20.0-cp312-cp312-manylinux_2_17_x86_64.manylinux2014_x86_64.whl.metadata (27 kB)\n",
            "Requirement already satisfied: tabulate in /usr/local/lib/python3.12/dist-packages (from camel-tools) (0.9.0)\n",
            "Requirement already satisfied: tqdm in /usr/local/lib/python3.12/dist-packages (from camel-tools) (4.67.1)\n",
            "Collecting muddler (from camel-tools)\n",
            "  Downloading muddler-0.1.3-py3-none-any.whl.metadata (7.5 kB)\n",
            "Collecting camel-kenlm<=2025.09.16 (from camel-tools)\n",
            "  Downloading camel_kenlm-2025.9.16-cp312-cp312-manylinux_2_24_x86_64.manylinux_2_28_x86_64.whl.metadata (251 bytes)\n",
            "Requirement already satisfied: click in /usr/local/lib/python3.12/dist-packages (from nltk) (8.3.0)\n",
            "Requirement already satisfied: joblib in /usr/local/lib/python3.12/dist-packages (from nltk) (1.5.2)\n",
            "Requirement already satisfied: regex>=2021.8.3 in /usr/local/lib/python3.12/dist-packages (from nltk) (2024.11.6)\n",
            "Requirement already satisfied: filelock in /usr/local/lib/python3.12/dist-packages (from torch>=2.0->camel-tools) (3.19.1)\n",
            "Requirement already satisfied: typing-extensions>=4.10.0 in /usr/local/lib/python3.12/dist-packages (from torch>=2.0->camel-tools) (4.15.0)\n",
            "Requirement already satisfied: setuptools in /usr/local/lib/python3.12/dist-packages (from torch>=2.0->camel-tools) (75.2.0)\n",
            "Requirement already satisfied: sympy>=1.13.3 in /usr/local/lib/python3.12/dist-packages (from torch>=2.0->camel-tools) (1.13.3)\n",
            "Requirement already satisfied: networkx in /usr/local/lib/python3.12/dist-packages (from torch>=2.0->camel-tools) (3.5)\n",
            "Requirement already satisfied: jinja2 in /usr/local/lib/python3.12/dist-packages (from torch>=2.0->camel-tools) (3.1.6)\n",
            "Requirement already satisfied: fsspec in /usr/local/lib/python3.12/dist-packages (from torch>=2.0->camel-tools) (2025.3.0)\n",
            "Requirement already satisfied: nvidia-cuda-nvrtc-cu12==12.6.77 in /usr/local/lib/python3.12/dist-packages (from torch>=2.0->camel-tools) (12.6.77)\n",
            "Requirement already satisfied: nvidia-cuda-runtime-cu12==12.6.77 in /usr/local/lib/python3.12/dist-packages (from torch>=2.0->camel-tools) (12.6.77)\n",
            "Requirement already satisfied: nvidia-cuda-cupti-cu12==12.6.80 in /usr/local/lib/python3.12/dist-packages (from torch>=2.0->camel-tools) (12.6.80)\n",
            "Requirement already satisfied: nvidia-cudnn-cu12==9.10.2.21 in /usr/local/lib/python3.12/dist-packages (from torch>=2.0->camel-tools) (9.10.2.21)\n",
            "Requirement already satisfied: nvidia-cublas-cu12==12.6.4.1 in /usr/local/lib/python3.12/dist-packages (from torch>=2.0->camel-tools) (12.6.4.1)\n",
            "Requirement already satisfied: nvidia-cufft-cu12==11.3.0.4 in /usr/local/lib/python3.12/dist-packages (from torch>=2.0->camel-tools) (11.3.0.4)\n",
            "Requirement already satisfied: nvidia-curand-cu12==10.3.7.77 in /usr/local/lib/python3.12/dist-packages (from torch>=2.0->camel-tools) (10.3.7.77)\n",
            "Requirement already satisfied: nvidia-cusolver-cu12==11.7.1.2 in /usr/local/lib/python3.12/dist-packages (from torch>=2.0->camel-tools) (11.7.1.2)\n",
            "Requirement already satisfied: nvidia-cusparse-cu12==12.5.4.2 in /usr/local/lib/python3.12/dist-packages (from torch>=2.0->camel-tools) (12.5.4.2)\n",
            "Requirement already satisfied: nvidia-cusparselt-cu12==0.7.1 in /usr/local/lib/python3.12/dist-packages (from torch>=2.0->camel-tools) (0.7.1)\n",
            "Requirement already satisfied: nvidia-nccl-cu12==2.27.3 in /usr/local/lib/python3.12/dist-packages (from torch>=2.0->camel-tools) (2.27.3)\n",
            "Requirement already satisfied: nvidia-nvtx-cu12==12.6.77 in /usr/local/lib/python3.12/dist-packages (from torch>=2.0->camel-tools) (12.6.77)\n",
            "Requirement already satisfied: nvidia-nvjitlink-cu12==12.6.85 in /usr/local/lib/python3.12/dist-packages (from torch>=2.0->camel-tools) (12.6.85)\n",
            "Requirement already satisfied: nvidia-cufile-cu12==1.11.1.6 in /usr/local/lib/python3.12/dist-packages (from torch>=2.0->camel-tools) (1.11.1.6)\n",
            "Requirement already satisfied: triton==3.4.0 in /usr/local/lib/python3.12/dist-packages (from torch>=2.0->camel-tools) (3.4.0)\n",
            "Requirement already satisfied: huggingface-hub<1.0,>=0.23.2 in /usr/local/lib/python3.12/dist-packages (from transformers<4.44.0,>=4.0->camel-tools) (0.35.3)\n",
            "Requirement already satisfied: packaging>=20.0 in /usr/local/lib/python3.12/dist-packages (from transformers<4.44.0,>=4.0->camel-tools) (25.0)\n",
            "Requirement already satisfied: pyyaml>=5.1 in /usr/local/lib/python3.12/dist-packages (from transformers<4.44.0,>=4.0->camel-tools) (6.0.3)\n",
            "Requirement already satisfied: safetensors>=0.4.1 in /usr/local/lib/python3.12/dist-packages (from transformers<4.44.0,>=4.0->camel-tools) (0.6.2)\n",
            "Collecting tokenizers<0.20,>=0.19 (from transformers<4.44.0,>=4.0->camel-tools)\n",
            "  Downloading tokenizers-0.19.1-cp312-cp312-manylinux_2_17_x86_64.manylinux2014_x86_64.whl.metadata (6.7 kB)\n",
            "Requirement already satisfied: python-dateutil>=2.8.2 in /usr/local/lib/python3.12/dist-packages (from pandas->camel-tools) (2.9.0.post0)\n",
            "Requirement already satisfied: pytz>=2020.1 in /usr/local/lib/python3.12/dist-packages (from pandas->camel-tools) (2025.2)\n",
            "Requirement already satisfied: tzdata>=2022.7 in /usr/local/lib/python3.12/dist-packages (from pandas->camel-tools) (2025.2)\n",
            "Requirement already satisfied: charset_normalizer<4,>=2 in /usr/local/lib/python3.12/dist-packages (from requests->camel-tools) (3.4.3)\n",
            "Requirement already satisfied: idna<4,>=2.5 in /usr/local/lib/python3.12/dist-packages (from requests->camel-tools) (3.10)\n",
            "Requirement already satisfied: urllib3<3,>=1.21.1 in /usr/local/lib/python3.12/dist-packages (from requests->camel-tools) (2.5.0)\n",
            "Requirement already satisfied: certifi>=2017.4.17 in /usr/local/lib/python3.12/dist-packages (from requests->camel-tools) (2025.8.3)\n",
            "Requirement already satisfied: threadpoolctl>=3.1.0 in /usr/local/lib/python3.12/dist-packages (from scikit-learn->camel-tools) (3.6.0)\n",
            "Requirement already satisfied: hf-xet<2.0.0,>=1.1.3 in /usr/local/lib/python3.12/dist-packages (from huggingface-hub<1.0,>=0.23.2->transformers<4.44.0,>=4.0->camel-tools) (1.1.10)\n",
            "Requirement already satisfied: mpmath<1.4,>=1.1.0 in /usr/local/lib/python3.12/dist-packages (from sympy>=1.13.3->torch>=2.0->camel-tools) (1.3.0)\n",
            "Requirement already satisfied: MarkupSafe>=2.0 in /usr/local/lib/python3.12/dist-packages (from jinja2->torch>=2.0->camel-tools) (3.0.3)\n",
            "Downloading PyArabic-0.6.15-py3-none-any.whl (126 kB)\n",
            "\u001b[2K   \u001b[90m━━━━━━━━━━━━━━━━━━━━━━━━━━━━━━━━━━━━━━━━\u001b[0m \u001b[32m126.4/126.4 kB\u001b[0m \u001b[31m5.3 MB/s\u001b[0m eta \u001b[36m0:00:00\u001b[0m\n",
            "\u001b[?25hDownloading camel_tools-1.5.7-py3-none-any.whl (124 kB)\n",
            "\u001b[2K   \u001b[90m━━━━━━━━━━━━━━━━━━━━━━━━━━━━━━━━━━━━━━━━\u001b[0m \u001b[32m124.7/124.7 kB\u001b[0m \u001b[31m8.7 MB/s\u001b[0m eta \u001b[36m0:00:00\u001b[0m\n",
            "\u001b[?25hDownloading camel_kenlm-2025.9.16-cp312-cp312-manylinux_2_24_x86_64.manylinux_2_28_x86_64.whl (3.2 MB)\n",
            "\u001b[2K   \u001b[90m━━━━━━━━━━━━━━━━━━━━━━━━━━━━━━━━━━━━━━━━\u001b[0m \u001b[32m3.2/3.2 MB\u001b[0m \u001b[31m47.9 MB/s\u001b[0m eta \u001b[36m0:00:00\u001b[0m\n",
            "\u001b[?25hDownloading numpy-1.26.4-cp312-cp312-manylinux_2_17_x86_64.manylinux2014_x86_64.whl (18.0 MB)\n",
            "\u001b[2K   \u001b[90m━━━━━━━━━━━━━━━━━━━━━━━━━━━━━━━━━━━━━━━━\u001b[0m \u001b[32m18.0/18.0 MB\u001b[0m \u001b[31m89.1 MB/s\u001b[0m eta \u001b[36m0:00:00\u001b[0m\n",
            "\u001b[?25hDownloading transformers-4.43.4-py3-none-any.whl (9.4 MB)\n",
            "\u001b[2K   \u001b[90m━━━━━━━━━━━━━━━━━━━━━━━━━━━━━━━━━━━━━━━━\u001b[0m \u001b[32m9.4/9.4 MB\u001b[0m \u001b[31m96.4 MB/s\u001b[0m eta \u001b[36m0:00:00\u001b[0m\n",
            "\u001b[?25hDownloading emoji-2.15.0-py3-none-any.whl (608 kB)\n",
            "\u001b[2K   \u001b[90m━━━━━━━━━━━━━━━━━━━━━━━━━━━━━━━━━━━━━━━━\u001b[0m \u001b[32m608.4/608.4 kB\u001b[0m \u001b[31m32.5 MB/s\u001b[0m eta \u001b[36m0:00:00\u001b[0m\n",
            "\u001b[?25hDownloading muddler-0.1.3-py3-none-any.whl (16 kB)\n",
            "Downloading pyrsistent-0.20.0-cp312-cp312-manylinux_2_17_x86_64.manylinux2014_x86_64.whl (122 kB)\n",
            "\u001b[2K   \u001b[90m━━━━━━━━━━━━━━━━━━━━━━━━━━━━━━━━━━━━━━━━\u001b[0m \u001b[32m122.3/122.3 kB\u001b[0m \u001b[31m8.0 MB/s\u001b[0m eta \u001b[36m0:00:00\u001b[0m\n",
            "\u001b[?25hDownloading tokenizers-0.19.1-cp312-cp312-manylinux_2_17_x86_64.manylinux2014_x86_64.whl (3.6 MB)\n",
            "\u001b[2K   \u001b[90m━━━━━━━━━━━━━━━━━━━━━━━━━━━━━━━━━━━━━━━━\u001b[0m \u001b[32m3.6/3.6 MB\u001b[0m \u001b[31m94.2 MB/s\u001b[0m eta \u001b[36m0:00:00\u001b[0m\n",
            "\u001b[?25hBuilding wheels for collected packages: docopt\n",
            "  Building wheel for docopt (setup.py) ... \u001b[?25l\u001b[?25hdone\n",
            "  Created wheel for docopt: filename=docopt-0.6.2-py2.py3-none-any.whl size=13706 sha256=03cd73e73db97c5a84b744d680a7941d487891e882715fe8d25c400e983311d1\n",
            "  Stored in directory: /root/.cache/pip/wheels/1a/bf/a1/4cee4f7678c68c5875ca89eaccf460593539805c3906722228\n",
            "Successfully built docopt\n",
            "Installing collected packages: docopt, camel-kenlm, pyrsistent, pyarabic, numpy, muddler, emoji, tokenizers, transformers, camel-tools\n",
            "  Attempting uninstall: numpy\n",
            "    Found existing installation: numpy 2.0.2\n",
            "    Uninstalling numpy-2.0.2:\n",
            "      Successfully uninstalled numpy-2.0.2\n",
            "  Attempting uninstall: tokenizers\n",
            "    Found existing installation: tokenizers 0.22.1\n",
            "    Uninstalling tokenizers-0.22.1:\n",
            "      Successfully uninstalled tokenizers-0.22.1\n",
            "  Attempting uninstall: transformers\n",
            "    Found existing installation: transformers 4.56.2\n",
            "    Uninstalling transformers-4.56.2:\n",
            "      Successfully uninstalled transformers-4.56.2\n",
            "\u001b[31mERROR: pip's dependency resolver does not currently take into account all the packages that are installed. This behaviour is the source of the following dependency conflicts.\n",
            "thinc 8.3.6 requires numpy<3.0.0,>=2.0.0, but you have numpy 1.26.4 which is incompatible.\n",
            "opencv-python-headless 4.12.0.88 requires numpy<2.3.0,>=2; python_version >= \"3.9\", but you have numpy 1.26.4 which is incompatible.\n",
            "opencv-contrib-python 4.12.0.88 requires numpy<2.3.0,>=2; python_version >= \"3.9\", but you have numpy 1.26.4 which is incompatible.\n",
            "opencv-python 4.12.0.88 requires numpy<2.3.0,>=2; python_version >= \"3.9\", but you have numpy 1.26.4 which is incompatible.\u001b[0m\u001b[31m\n",
            "\u001b[0mSuccessfully installed camel-kenlm-2025.9.16 camel-tools-1.5.7 docopt-0.6.2 emoji-2.15.0 muddler-0.1.3 numpy-1.26.4 pyarabic-0.6.15 pyrsistent-0.20.0 tokenizers-0.19.1 transformers-4.43.4\n"
          ]
        },
        {
          "output_type": "display_data",
          "data": {
            "application/vnd.colab-display-data+json": {
              "pip_warning": {
                "packages": [
                  "numpy"
                ]
              },
              "id": "36a1953af4d64f738e93fb611021903d"
            }
          },
          "metadata": {}
        }
      ]
    },
    {
      "cell_type": "code",
      "source": [
        "!camel_data -i light"
      ],
      "metadata": {
        "colab": {
          "base_uri": "https://localhost:8080/"
        },
        "collapsed": true,
        "id": "GFMPB0vyibkg",
        "outputId": "b27ee62d-0110-4e4b-e196-01c962d8b49a"
      },
      "execution_count": null,
      "outputs": [
        {
          "output_type": "stream",
          "name": "stdout",
          "text": [
            "The following packages will be installed: 'morphology-db-msa-r13', 'morphology-db-egy-r13', 'disambig-mle-calima-msa-r13', 'dialectid-model26', 'morphology-db-glf-01', 'morphology-db-msa-s31', 'disambig-mle-calima-egy-r13', 'morphology-db-lev-01'\n",
            "Downloading package 'morphology-db-msa-r13': 100% 40.5M/40.5M [00:00<00:00, 196MB/s]\n",
            "Extracting package 'morphology-db-msa-r13': 100% 40.5M/40.5M [00:00<00:00, 503MB/s]\n",
            "Downloading package 'morphology-db-egy-r13': 100% 67.3M/67.3M [00:00<00:00, 209MB/s]\n",
            "Extracting package 'morphology-db-egy-r13': 100% 67.3M/67.3M [00:00<00:00, 303MB/s]\n",
            "Downloading package 'disambig-mle-calima-msa-r13': 100% 88.7M/88.7M [00:00<00:00, 163MB/s]\n",
            "Extracting package 'disambig-mle-calima-msa-r13': 100% 88.7M/88.7M [00:01<00:00, 67.6MB/s]\n",
            "Downloading package 'dialectid-model26': 100% 371M/371M [00:02<00:00, 139MB/s]\n",
            "Extracting package 'dialectid-model26': 100% 371M/371M [00:03<00:00, 93.3MB/s]\n",
            "Downloading package 'morphology-db-glf-01': 100% 7.98M/7.98M [00:00<00:00, 58.0MB/s]\n",
            "Extracting package 'morphology-db-glf-01': 100% 7.98M/7.98M [00:00<00:00, 171MB/s]\n",
            "Downloading package 'morphology-db-msa-s31': 100% 44.8M/44.8M [00:00<00:00, 122MB/s]\n",
            "Extracting package 'morphology-db-msa-s31': 100% 44.8M/44.8M [00:00<00:00, 176MB/s]\n",
            "Downloading package 'disambig-mle-calima-egy-r13': 100% 27.2M/27.2M [00:00<00:00, 136MB/s] \n",
            "Extracting package 'disambig-mle-calima-egy-r13': 100% 27.2M/27.2M [00:00<00:00, 163MB/s]\n",
            "Downloading package 'morphology-db-lev-01': 100% 10.6M/10.6M [00:00<00:00, 77.8MB/s]\n",
            "Extracting package 'morphology-db-lev-01': 100% 10.6M/10.6M [00:00<00:00, 197MB/s]\n"
          ]
        }
      ]
    },
    {
      "cell_type": "code",
      "source": [
        "from __future__ import annotations\n",
        "import unicodedata\n",
        "import regex as re\n",
        "import pandas as pd\n",
        "\n",
        "# --- CAMeL Tools: normalization, dediacritization, tokenization, disambiguation ---\n",
        "from camel_tools.utils.normalize import (\n",
        "    normalize_unicode,          # Unicode normalization\n",
        "    normalize_alef_ar,          # أ/إ/آ/ٱ → ا\n",
        "    normalize_teh_marbuta_ar,   # ة → ه\n",
        "    normalize_alef_maksura_ar,  # ى → ي\n",
        ")\n",
        "from camel_tools.utils.dediac import dediac_ar         # remove tashkeel safely (keeps letters)\n",
        "from camel_tools.tokenizers.word import simple_word_tokenize\n",
        "from camel_tools.disambig.mle import MLEDisambiguator  # pretrained() MSA by default\n",
        "\n",
        "# --- Stopwords ---\n",
        "import nltk\n",
        "from nltk.corpus import stopwords\n",
        "try:\n",
        "    _ = stopwords.words(\"arabic\")\n",
        "except LookupError:\n",
        "    nltk.download(\"stopwords\", quiet=True)\n",
        "\n",
        "AR_STOPS_RAW = set(stopwords.words(\"arabic\"))\n",
        "# Normalize the stopword list with the SAME rules as text:\n",
        "def _norm_for_stops(s: str) -> str:\n",
        "    s = normalize_unicode(s, compatibility=True)   # NFC/NFKC\n",
        "    s = dediac_ar(s)                               # strip diacritics\n",
        "    s = normalize_alef_ar(s)                       # unify alef variants\n",
        "    s = normalize_teh_marbuta_ar(s)                # ة→ه\n",
        "    s = normalize_alef_maksura_ar(s)               # ى→ي\n",
        "    s = re.sub(r\"\\s+\", \" \", s).strip()\n",
        "    return s\n",
        "\n",
        "AR_STOPS = {w for w in (_norm_for_stops(w) for w in AR_STOPS_RAW) if w}\n",
        "\n",
        "# --- Build disambiguator (loads pretrained MSA model; requires camel_data installed) ---\n",
        "# MLEDisambiguator.pretrained() uses default ‘calima-msa-r13’ unless specified.\n",
        "mle = MLEDisambiguator.pretrained()\n",
        "\n",
        "# --- Core normalization (Unicode → dediac → alef/teh/ى rules) ---\n",
        "def normalize_arabic(s: str) -> str:\n",
        "    if not isinstance(s, str):\n",
        "        s = \"\" if s is None else str(s)\n",
        "    s = normalize_unicode(s, compatibility=True)    # NFKC\n",
        "    s = dediac_ar(s)                                # remove tashkeel (keeps letters)\n",
        "    s = normalize_alef_ar(s)                        # أ/إ/آ/ٱ → ا\n",
        "    s = normalize_teh_marbuta_ar(s)                 # ة → ه\n",
        "    s = normalize_alef_maksura_ar(s)                # ى → ي\n",
        "    # keep Arabic letters/digits/space only\n",
        "    s = \"\".join(ch for ch in s if unicodedata.category(ch)[0] != \"C\")  # drop controls\n",
        "    s = re.sub(r\"[^\\p{Arabic}\\p{Nd}\\s]\", \" \", s)\n",
        "    s = re.sub(r\"\\s+\", \" \", s).strip()\n",
        "    return s\n",
        "\n",
        "# --- Tokenize with CAMeL’s whitespace+punct splitter ---\n",
        "def tokenize_arabic(s: str) -> list[str]:\n",
        "    if not s:\n",
        "        return []\n",
        "    # simple_word_tokenize is language-agnostic but respects Unicode punctuation boundaries\n",
        "    return [t for t in simple_word_tokenize(s) if t.strip()]\n",
        "\n",
        "# --- Lemmatize via morphological disambiguation (MSA) ---\n",
        "def lemmas_via_camel(tokens: list[str]) -> list[str]:\n",
        "    if not tokens:\n",
        "        return []\n",
        "    # Disambiguate expects a whitespace/punct-tokenized sentence\n",
        "    disamb = mle.disambiguate(tokens)\n",
        "    lemmas = []\n",
        "    for d in disamb:\n",
        "        # Take the top analysis when available; fall back to surface token\n",
        "        if getattr(d, \"analyses\", None):\n",
        "            # analyses[0].analysis is a dict; lemma is usually under 'lemma'\n",
        "            lemmas.append(d.analyses[0].analysis.get(\"lemma\", d.word))\n",
        "        else:\n",
        "            lemmas.append(d.word)\n",
        "    return lemmas\n",
        "\n",
        "# --- Full pipeline for one string ---\n",
        "def preprocess_arabic(text: str, *, remove_stopwords: bool = True, to_lemmas: bool = True) -> str:\n",
        "    s = normalize_arabic(text)\n",
        "    toks = tokenize_arabic(s)\n",
        "    if remove_stopwords:\n",
        "        toks = [t for t in toks if t not in AR_STOPS]\n",
        "    if to_lemmas:\n",
        "        toks = lemmas_via_camel(toks)\n",
        "        # if you removed stops before, consider removing again post-lemma\n",
        "        if remove_stopwords:\n",
        "            toks = [t for t in toks if t not in AR_STOPS]\n",
        "    return \" \".join(toks)"
      ],
      "metadata": {
        "id": "RbUsHfHRiYIU"
      },
      "execution_count": null,
      "outputs": []
    },
    {
      "cell_type": "code",
      "source": [
        "df['text_clean'] = df['text'].apply(preprocess_arabic)"
      ],
      "metadata": {
        "id": "Qwz9gkrEjDT5"
      },
      "execution_count": null,
      "outputs": []
    },
    {
      "cell_type": "markdown",
      "source": [
        "Frequently Word"
      ],
      "metadata": {
        "id": "N9De5Fg5G9ST"
      }
    },
    {
      "cell_type": "code",
      "source": [
        "from collections import Counter\n",
        "top = Counter(\" \".join(df['text']).split()).most_common(50); top[:50]"
      ],
      "metadata": {
        "colab": {
          "base_uri": "https://localhost:8080/"
        },
        "id": "rxyaLeueZ99L",
        "outputId": "5efa50c8-f22f-4179-9585-5c39a28ad052"
      },
      "execution_count": null,
      "outputs": [
        {
          "output_type": "execute_result",
          "data": {
            "text/plain": [
              "[('في', 183151),\n",
              " ('على', 98459),\n",
              " ('من', 95287),\n",
              " ('إلى', 74853),\n",
              " ('هذه', 48616),\n",
              " ('الدراسة', 42331),\n",
              " ('البحث', 41323),\n",
              " ('أن', 35592),\n",
              " ('هذا', 32664),\n",
              " ('التي', 32412),\n",
              " ('بين', 29594),\n",
              " ('خلال', 26271),\n",
              " ('مع', 25326),\n",
              " ('عن', 16728),\n",
              " ('حيث', 16563),\n",
              " ('مما', 14262),\n",
              " ('تحليل', 13538),\n",
              " ('النتائج', 13313),\n",
              " ('تهدف', 13016),\n",
              " ('أهمية', 11137),\n",
              " ('دراسة', 11032),\n",
              " ('الذي', 10178),\n",
              " ('الضوء', 10006),\n",
              " ('التركيز', 9748),\n",
              " ('أو', 9543),\n",
              " ('كما', 9415),\n",
              " ('استخدام', 8877),\n",
              " ('فهم', 8824),\n",
              " ('يهدف', 8582),\n",
              " ('تم', 8557),\n",
              " ('تعزيز', 8556),\n",
              " ('دور', 8532),\n",
              " ('تأثير', 8421),\n",
              " ('و', 8162),\n",
              " ('الورقة', 7904),\n",
              " ('ما', 7873),\n",
              " ('بشكل', 7768),\n",
              " ('حول', 7652),\n",
              " ('ذلك', 7407),\n",
              " ('يمكن', 7201),\n",
              " ('اللغة', 7191),\n",
              " ('مثل', 7087),\n",
              " ('الجزائر', 6575),\n",
              " ('العربية', 6532),\n",
              " ('يتم', 6395),\n",
              " ('تحقيق', 6137),\n",
              " ('كيفية', 6114),\n",
              " ('لدى', 5840),\n",
              " ('هو', 5816),\n",
              " ('استكشاف', 5643)]"
            ]
          },
          "metadata": {},
          "execution_count": 7
        }
      ]
    },
    {
      "cell_type": "code",
      "source": [
        "from collections import Counter\n",
        "top = Counter(\" \".join(df['text_clean']).split()).most_common(50); top[:50]"
      ],
      "metadata": {
        "colab": {
          "base_uri": "https://localhost:8080/"
        },
        "id": "b3b7h1BO7RcH",
        "outputId": "eca67f68-0e6c-443a-ae8b-c7e043da7a95"
      },
      "execution_count": null,
      "outputs": [
        {
          "output_type": "execute_result",
          "data": {
            "text/plain": [
              "[('الدراسه', 43979),\n",
              " ('البحث', 42597),\n",
              " ('خلال', 26298),\n",
              " ('النتائج', 13829),\n",
              " ('تحليل', 13567),\n",
              " ('تهدف', 13043),\n",
              " ('الجزائر', 12234),\n",
              " ('اهميه', 11243),\n",
              " ('دراسه', 11148),\n",
              " ('الضوء', 10033),\n",
              " ('العربيه', 9928),\n",
              " ('التركيز', 9785),\n",
              " ('الجزائري', 9326),\n",
              " ('استخدام', 8915),\n",
              " ('فهم', 8843),\n",
              " ('يهدف', 8656),\n",
              " ('دور', 8571),\n",
              " ('تعزيز', 8561),\n",
              " ('تاثير', 8437),\n",
              " ('اللغه', 8206),\n",
              " ('الورقه', 7956),\n",
              " ('بشكل', 7779),\n",
              " ('حول', 7668),\n",
              " ('يمكن', 7337),\n",
              " ('الاقتصاديه', 6958),\n",
              " ('الاجتماعيه', 6552),\n",
              " ('يتم', 6430),\n",
              " ('تحقيق', 6161),\n",
              " ('الجزائريه', 6135),\n",
              " ('كيفيه', 6128),\n",
              " ('القانونيه', 6126),\n",
              " ('العربي', 6035),\n",
              " ('النصوص', 5808),\n",
              " ('العلاقه', 5658),\n",
              " ('استكشاف', 5643),\n",
              " ('المجتمع', 5599),\n",
              " ('البحثيه', 5599),\n",
              " ('النص', 5234),\n",
              " ('المؤسسات', 5150),\n",
              " ('الاسلاميه', 5081),\n",
              " ('يتناول', 4997),\n",
              " ('لتحقيق', 4992),\n",
              " ('تحسين', 4861),\n",
              " ('بالاضافه', 4801),\n",
              " ('منهجيه', 4769),\n",
              " ('الماليه', 4665),\n",
              " ('تقديم', 4578),\n",
              " ('تشير', 4573),\n",
              " ('الاجتماعي', 4353),\n",
              " ('القانون', 4324)]"
            ]
          },
          "metadata": {},
          "execution_count": 31
        }
      ]
    },
    {
      "cell_type": "code",
      "source": [
        "cd /content/drive/MyDrive/Colab Notebooks"
      ],
      "metadata": {
        "colab": {
          "base_uri": "https://localhost:8080/"
        },
        "id": "cLOwnMif8X22",
        "outputId": "d31e870f-9eaa-4561-f806-1889bcc40292"
      },
      "execution_count": null,
      "outputs": [
        {
          "output_type": "stream",
          "name": "stdout",
          "text": [
            "/content/drive/MyDrive/Colab Notebooks\n"
          ]
        }
      ]
    },
    {
      "cell_type": "code",
      "source": [
        "# Save per-split and combined parquet/csv\n",
        "out_cols = ['text','text_clean3','label','source_model','split_name']\n",
        "df[out_cols].to_parquet('arabic_generated_abstracts_long_clean2.parquet', index=False)\n",
        "df[out_cols].to_csv('arabic_generated_abstracts_long_clean2.csv', index=False)\n",
        "print(\"Saved: arabic_generated_abstracts_long_clean2.(parquet|csv)\")"
      ],
      "metadata": {
        "colab": {
          "base_uri": "https://localhost:8080/"
        },
        "id": "KY_vM02j72j-",
        "outputId": "39c87f27-29b7-40b5-8378-3ced50783c8f"
      },
      "execution_count": null,
      "outputs": [
        {
          "output_type": "stream",
          "name": "stdout",
          "text": [
            "Saved: arabic_generated_abstracts_long_clean2.(parquet|csv)\n"
          ]
        }
      ]
    },
    {
      "cell_type": "code",
      "source": [],
      "metadata": {
        "id": "UMMHRMTzNXoa"
      },
      "execution_count": null,
      "outputs": []
    }
  ]
}